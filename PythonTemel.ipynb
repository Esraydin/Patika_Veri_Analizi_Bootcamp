{
 "cells": [
  {
   "cell_type": "markdown",
   "id": "5633e2cd",
   "metadata": {},
   "source": [
    "1. Listeyi düzleştiren (flatten) fonksiyon"
   ]
  },
  {
   "cell_type": "code",
   "execution_count": 2,
   "id": "18d75a1a",
   "metadata": {},
   "outputs": [
    {
     "name": "stdout",
     "output_type": "stream",
     "text": [
      "[1, 'a', 'cat', 2, 3, 'dog', 4, 5]\n"
     ]
    }
   ],
   "source": [
    "def flatten(liste):\n",
    "    result = []\n",
    "    for eleman in liste:\n",
    "        if isinstance(eleman, list):\n",
    "            result.extend(flatten(eleman))\n",
    "        else:\n",
    "            result.append(eleman)\n",
    "    return result\n",
    "\n",
    "girdi = [[1, 'a', ['cat'], 2], [[[3]], 'dog'], 4, 5]\n",
    "print(flatten(girdi))"
   ]
  },
  {
   "cell_type": "markdown",
   "id": "669f0673",
   "metadata": {},
   "source": [
    "2.Liste ve içindeki listeleri tersine çeviren fonksiyon"
   ]
  },
  {
   "cell_type": "code",
   "execution_count": 3,
   "id": "ca4b6d4c",
   "metadata": {},
   "outputs": [
    {
     "name": "stdout",
     "output_type": "stream",
     "text": [
      "[[7, 6, 5], [4, 3], [2, 1]]\n"
     ]
    }
   ],
   "source": [
    "def reverse_all(liste):\n",
    "    reversed_list = []\n",
    "    for eleman in reversed(liste):\n",
    "        if isinstance(eleman, list):\n",
    "            reversed_list.append(reverse_all(eleman)) \n",
    "        else:\n",
    "            reversed_list.append(eleman)\n",
    "    return reversed_list\n",
    "\n",
    "\n",
    "girdi = [[1, 2], [3, 4], [5, 6, 7]]\n",
    "print(reverse_all(girdi))"
   ]
  }
 ],
 "metadata": {
  "kernelspec": {
   "display_name": "Python 3 (ipykernel)",
   "language": "python",
   "name": "python3"
  },
  "language_info": {
   "codemirror_mode": {
    "name": "ipython",
    "version": 3
   },
   "file_extension": ".py",
   "mimetype": "text/x-python",
   "name": "python",
   "nbconvert_exporter": "python",
   "pygments_lexer": "ipython3",
   "version": "3.8.3"
  }
 },
 "nbformat": 4,
 "nbformat_minor": 5
}
