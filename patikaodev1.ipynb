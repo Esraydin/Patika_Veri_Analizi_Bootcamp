{
 "cells": [
  {
   "cell_type": "markdown",
   "id": "0aa68254",
   "metadata": {},
   "source": [
    " #### 1.Girilen sayının pozitif, negatif veya sıfır olduğunu yazan koşul:"
   ]
  },
  {
   "cell_type": "code",
   "execution_count": 1,
   "id": "49c295f8",
   "metadata": {},
   "outputs": [
    {
     "name": "stdout",
     "output_type": "stream",
     "text": [
      "Bir sayı girin: 5\n",
      "Pozitif bir sayı\n"
     ]
    }
   ],
   "source": [
    "sayi = int(input(\"Bir sayı girin: \"))\n",
    "\n",
    "if sayi > 0:\n",
    "    print(\"Pozitif bir sayı\")\n",
    "elif sayi < 0:\n",
    "    print(\"Negatif bir sayı\")\n",
    "else:\n",
    "    print(\"Sıfır\")"
   ]
  },
  {
   "cell_type": "markdown",
   "id": "7597807f",
   "metadata": {},
   "source": [
    "#### 2. Girilen sayının tek mi çift mi olduğunu yazan koşul:"
   ]
  },
  {
   "cell_type": "code",
   "execution_count": 2,
   "id": "babf55e0",
   "metadata": {},
   "outputs": [
    {
     "name": "stdout",
     "output_type": "stream",
     "text": [
      "Bir sayı girin: 4\n",
      "Çift sayı\n"
     ]
    }
   ],
   "source": [
    "sayi = int(input(\"Bir sayı girin: \"))\n",
    "\n",
    "if sayi % 2 == 0:\n",
    "    print(\"Çift sayı\")\n",
    "else:\n",
    "    print(\"Tek sayı\")"
   ]
  },
  {
   "cell_type": "markdown",
   "id": "3e94534f",
   "metadata": {},
   "source": [
    "#### 3. Girilen nota göre harf aralığını yazan koşul:"
   ]
  },
  {
   "cell_type": "code",
   "execution_count": 3,
   "id": "a2e8fdca",
   "metadata": {},
   "outputs": [
    {
     "name": "stdout",
     "output_type": "stream",
     "text": [
      "Notunuzu girin: 85\n",
      "A\n"
     ]
    }
   ],
   "source": [
    "notu = int(input(\"Notunuzu girin: \"))\n",
    "\n",
    "if 80 <= notu <= 100:\n",
    "    print(\"A\")\n",
    "elif 60 <= notu < 80:\n",
    "    print(\"B\")\n",
    "elif 40 <= notu < 60:\n",
    "    print(\"C\")\n",
    "else:\n",
    "    print(\"D\")"
   ]
  },
  {
   "cell_type": "markdown",
   "id": "e26f4bb6",
   "metadata": {},
   "source": [
    "#### 4. Girilen ismin karakter sayısı 5'den büyükse \"uzun bir isminiz var\", değilse ismini yazsın:\n",
    "\n"
   ]
  },
  {
   "cell_type": "code",
   "execution_count": 4,
   "id": "0161ba20",
   "metadata": {},
   "outputs": [
    {
     "name": "stdout",
     "output_type": "stream",
     "text": [
      "İsminizi girin: Esra\n",
      "İsminiz: Esra\n"
     ]
    }
   ],
   "source": [
    "isim = input(\"İsminizi girin: \")\n",
    "\n",
    "if len(isim) > 5:\n",
    "    print(\"Uzun bir isminiz var\")\n",
    "else:\n",
    "    print(\"İsminiz:\", isim)"
   ]
  },
  {
   "cell_type": "markdown",
   "id": "b155ff95",
   "metadata": {},
   "source": [
    "#### 5. Girilen sayının asal olup olmadığını bulan kod dizisi (for ve while):"
   ]
  },
  {
   "cell_type": "code",
   "execution_count": 6,
   "id": "81b2a468",
   "metadata": {},
   "outputs": [
    {
     "name": "stdout",
     "output_type": "stream",
     "text": [
      "Bir sayı girin: 11\n",
      "Asal sayı\n"
     ]
    }
   ],
   "source": [
    "sayi = int(input(\"Bir sayı girin: \"))\n",
    "asal = True\n",
    "\n",
    "if sayi <= 1:\n",
    "    asal = False\n",
    "else:\n",
    "    for i in range(2, sayi):\n",
    "        if sayi % i == 0:\n",
    "            asal = False\n",
    "            break\n",
    "\n",
    "if asal:\n",
    "    print(\"Asal sayı\")\n",
    "else:\n",
    "    print(\"Asal değil\")"
   ]
  },
  {
   "cell_type": "code",
   "execution_count": 10,
   "id": "50d8e13e",
   "metadata": {},
   "outputs": [
    {
     "name": "stdout",
     "output_type": "stream",
     "text": [
      "Bir sayı girin: 26\n",
      "Asal değil\n"
     ]
    }
   ],
   "source": [
    "sayi = int(input(\"Bir sayı girin: \"))\n",
    "asal = True\n",
    "i = 2\n",
    "\n",
    "if sayi <= 1:\n",
    "    asal = False\n",
    "else:\n",
    "    while i < sayi:\n",
    "        if sayi % i == 0:\n",
    "            asal = False\n",
    "            break\n",
    "        i += 1\n",
    "\n",
    "if asal:\n",
    "    print(\"Asal sayı\")\n",
    "else:\n",
    "    print(\"Asal değil\")"
   ]
  },
  {
   "cell_type": "markdown",
   "id": "e8d3c143",
   "metadata": {},
   "source": [
    "#### 6. notlar=[45,85,75,50] içinde 75 değerinin indisini yazdıran döngü:"
   ]
  },
  {
   "cell_type": "code",
   "execution_count": 7,
   "id": "65b88125",
   "metadata": {},
   "outputs": [
    {
     "name": "stdout",
     "output_type": "stream",
     "text": [
      "75'in indisi: 2\n"
     ]
    }
   ],
   "source": [
    "notlar = [45, 85, 75, 50]\n",
    "\n",
    "for i in range(len(notlar)):\n",
    "    if notlar[i] == 75:\n",
    "        print(\"75'in indisi:\", i)\n",
    "        break"
   ]
  },
  {
   "cell_type": "markdown",
   "id": "5d2814a4",
   "metadata": {},
   "source": [
    "#### 7. Girilen sayının faktöriyelini alalım. (for ve while)"
   ]
  },
  {
   "cell_type": "code",
   "execution_count": 9,
   "id": "e5868189",
   "metadata": {},
   "outputs": [
    {
     "name": "stdout",
     "output_type": "stream",
     "text": [
      "Faktöriyeli alınacak sayı: 4\n",
      "Faktöriyel: 24\n"
     ]
    }
   ],
   "source": [
    "sayi = int(input(\"Faktöriyeli alınacak sayı: \"))\n",
    "faktoriyel = 1\n",
    "\n",
    "for i in range(1, sayi + 1):\n",
    "    faktoriyel *= i\n",
    "\n",
    "print(\"Faktöriyel:\", faktoriyel)"
   ]
  },
  {
   "cell_type": "code",
   "execution_count": 11,
   "id": "fee3b7fe",
   "metadata": {},
   "outputs": [
    {
     "name": "stdout",
     "output_type": "stream",
     "text": [
      "Faktöriyeli alınacak sayı: 3\n",
      "Faktöriyel: 6\n"
     ]
    }
   ],
   "source": [
    "sayi = int(input(\"Faktöriyeli alınacak sayı: \"))\n",
    "faktoriyel = 1\n",
    "i = 1\n",
    "\n",
    "while i <= sayi:\n",
    "    faktoriyel *= i\n",
    "    i += 1\n",
    "\n",
    "print(\"Faktöriyel:\", faktoriyel)"
   ]
  },
  {
   "cell_type": "markdown",
   "id": "d8917bd2",
   "metadata": {},
   "source": [
    "#### 8. Kullanıcıdan pozitif sayı bekleyen yapı (for döngüsü ile):"
   ]
  },
  {
   "cell_type": "code",
   "execution_count": 13,
   "id": "d1b3dc2c",
   "metadata": {},
   "outputs": [
    {
     "name": "stdout",
     "output_type": "stream",
     "text": [
      "Pozitif bir sayı girin: -7\n",
      "Negatif sayı girdiniz, tekrar deneyin.\n",
      "Pozitif bir sayı girin: -8\n",
      "Negatif sayı girdiniz, tekrar deneyin.\n",
      "Pozitif bir sayı girin: -5\n",
      "Negatif sayı girdiniz, tekrar deneyin.\n",
      "Pozitif bir sayı girin: 5\n",
      "Teşekkürler, pozitif sayı girdiniz: 5\n"
     ]
    }
   ],
   "source": [
    "for _ in range(100): \n",
    "    sayi = int(input(\"Pozitif bir sayı girin: \"))\n",
    "    if sayi > 0:\n",
    "        print(\"Teşekkürler, pozitif sayı girdiniz:\", sayi)\n",
    "        break\n",
    "    else:\n",
    "        print(\"Negatif sayı girdiniz, tekrar deneyin.\")"
   ]
  },
  {
   "cell_type": "markdown",
   "id": "2a048f4e",
   "metadata": {},
   "source": [
    "#### 9. Fonksiyon ile girilen sayının asal olup olmadığını bulan kod dizisi (for ve while)"
   ]
  },
  {
   "cell_type": "code",
   "execution_count": 14,
   "id": "77d7103a",
   "metadata": {},
   "outputs": [
    {
     "name": "stdout",
     "output_type": "stream",
     "text": [
      "Bir sayı girin: 23\n",
      "Asal mı? True\n"
     ]
    }
   ],
   "source": [
    "def asal_mi(sayi):\n",
    "    if sayi <= 1:\n",
    "        return False\n",
    "    for i in range(2, sayi):\n",
    "        if sayi % i == 0:\n",
    "            return False\n",
    "    return True\n",
    "\n",
    "sayi = int(input(\"Bir sayı girin: \"))\n",
    "print(\"Asal mı?\", asal_mi(sayi))"
   ]
  },
  {
   "cell_type": "code",
   "execution_count": 15,
   "id": "c2eaea79",
   "metadata": {},
   "outputs": [
    {
     "name": "stdout",
     "output_type": "stream",
     "text": [
      "Bir sayı girin: 14\n",
      "Asal mı? False\n"
     ]
    }
   ],
   "source": [
    "def asal_mi(sayi):\n",
    "    if sayi <= 1:\n",
    "        return False\n",
    "    i = 2\n",
    "    while i < sayi:\n",
    "        if sayi % i == 0:\n",
    "            return False\n",
    "        i += 1\n",
    "    return True\n",
    "\n",
    "sayi = int(input(\"Bir sayı girin: \"))\n",
    "print(\"Asal mı?\", asal_mi(sayi))"
   ]
  },
  {
   "cell_type": "markdown",
   "id": "16f6ef59",
   "metadata": {},
   "source": [
    "#### 10. Fonksiyon ile girilen sayının faktöriyelini alalım (for ve while)"
   ]
  },
  {
   "cell_type": "code",
   "execution_count": 16,
   "id": "d7bb0c96",
   "metadata": {},
   "outputs": [
    {
     "name": "stdout",
     "output_type": "stream",
     "text": [
      "Sayı girin: 5\n",
      "Faktöriyel: 120\n"
     ]
    }
   ],
   "source": [
    "def faktoriyel(sayi):\n",
    "    sonuc = 1\n",
    "    for i in range(1, sayi + 1):\n",
    "        sonuc *= i\n",
    "    return sonuc\n",
    "\n",
    "sayi = int(input(\"Sayı girin: \"))\n",
    "print(\"Faktöriyel:\", faktoriyel(sayi))"
   ]
  },
  {
   "cell_type": "code",
   "execution_count": 17,
   "id": "35a4ed42",
   "metadata": {},
   "outputs": [
    {
     "name": "stdout",
     "output_type": "stream",
     "text": [
      "Sayı girin: 6\n",
      "Faktöriyel: 720\n"
     ]
    }
   ],
   "source": [
    "def faktoriyel(sayi):\n",
    "    sonuc = 1\n",
    "    i = 1\n",
    "    while i <= sayi:\n",
    "        sonuc *= i\n",
    "        i += 1\n",
    "    return sonuc\n",
    "\n",
    "sayi = int(input(\"Sayı girin: \"))\n",
    "print(\"Faktöriyel:\", faktoriyel(sayi))"
   ]
  }
 ],
 "metadata": {
  "kernelspec": {
   "display_name": "Python 3 (ipykernel)",
   "language": "python",
   "name": "python3"
  },
  "language_info": {
   "codemirror_mode": {
    "name": "ipython",
    "version": 3
   },
   "file_extension": ".py",
   "mimetype": "text/x-python",
   "name": "python",
   "nbconvert_exporter": "python",
   "pygments_lexer": "ipython3",
   "version": "3.8.3"
  }
 },
 "nbformat": 4,
 "nbformat_minor": 5
}
