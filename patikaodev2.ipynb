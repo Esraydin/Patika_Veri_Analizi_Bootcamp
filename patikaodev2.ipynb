{
 "cells": [
  {
   "cell_type": "code",
   "execution_count": 1,
   "id": "64d84282",
   "metadata": {},
   "outputs": [],
   "source": [
    "import pandas as pd\n",
    "import numpy as np\n"
   ]
  },
  {
   "cell_type": "code",
   "execution_count": 4,
   "id": "70074e07",
   "metadata": {},
   "outputs": [],
   "source": [
    "train_df = pd.read_csv('C:/Users/aydin/Desktop/data/train.csv')"
   ]
  },
  {
   "cell_type": "code",
   "execution_count": 5,
   "id": "269e8b5a",
   "metadata": {},
   "outputs": [
    {
     "data": {
      "text/html": [
       "<div>\n",
       "<style scoped>\n",
       "    .dataframe tbody tr th:only-of-type {\n",
       "        vertical-align: middle;\n",
       "    }\n",
       "\n",
       "    .dataframe tbody tr th {\n",
       "        vertical-align: top;\n",
       "    }\n",
       "\n",
       "    .dataframe thead th {\n",
       "        text-align: right;\n",
       "    }\n",
       "</style>\n",
       "<table border=\"1\" class=\"dataframe\">\n",
       "  <thead>\n",
       "    <tr style=\"text-align: right;\">\n",
       "      <th></th>\n",
       "      <th>PassengerId</th>\n",
       "      <th>Survived</th>\n",
       "      <th>Pclass</th>\n",
       "      <th>Name</th>\n",
       "      <th>Sex</th>\n",
       "      <th>Age</th>\n",
       "      <th>SibSp</th>\n",
       "      <th>Parch</th>\n",
       "      <th>Ticket</th>\n",
       "      <th>Fare</th>\n",
       "      <th>Cabin</th>\n",
       "      <th>Embarked</th>\n",
       "    </tr>\n",
       "  </thead>\n",
       "  <tbody>\n",
       "    <tr>\n",
       "      <th>0</th>\n",
       "      <td>1</td>\n",
       "      <td>0</td>\n",
       "      <td>3</td>\n",
       "      <td>Braund, Mr. Owen Harris</td>\n",
       "      <td>male</td>\n",
       "      <td>22.0</td>\n",
       "      <td>1</td>\n",
       "      <td>0</td>\n",
       "      <td>A/5 21171</td>\n",
       "      <td>7.2500</td>\n",
       "      <td>NaN</td>\n",
       "      <td>S</td>\n",
       "    </tr>\n",
       "    <tr>\n",
       "      <th>1</th>\n",
       "      <td>2</td>\n",
       "      <td>1</td>\n",
       "      <td>1</td>\n",
       "      <td>Cumings, Mrs. John Bradley (Florence Briggs Th...</td>\n",
       "      <td>female</td>\n",
       "      <td>38.0</td>\n",
       "      <td>1</td>\n",
       "      <td>0</td>\n",
       "      <td>PC 17599</td>\n",
       "      <td>71.2833</td>\n",
       "      <td>C85</td>\n",
       "      <td>C</td>\n",
       "    </tr>\n",
       "    <tr>\n",
       "      <th>2</th>\n",
       "      <td>3</td>\n",
       "      <td>1</td>\n",
       "      <td>3</td>\n",
       "      <td>Heikkinen, Miss. Laina</td>\n",
       "      <td>female</td>\n",
       "      <td>26.0</td>\n",
       "      <td>0</td>\n",
       "      <td>0</td>\n",
       "      <td>STON/O2. 3101282</td>\n",
       "      <td>7.9250</td>\n",
       "      <td>NaN</td>\n",
       "      <td>S</td>\n",
       "    </tr>\n",
       "    <tr>\n",
       "      <th>3</th>\n",
       "      <td>4</td>\n",
       "      <td>1</td>\n",
       "      <td>1</td>\n",
       "      <td>Futrelle, Mrs. Jacques Heath (Lily May Peel)</td>\n",
       "      <td>female</td>\n",
       "      <td>35.0</td>\n",
       "      <td>1</td>\n",
       "      <td>0</td>\n",
       "      <td>113803</td>\n",
       "      <td>53.1000</td>\n",
       "      <td>C123</td>\n",
       "      <td>S</td>\n",
       "    </tr>\n",
       "    <tr>\n",
       "      <th>4</th>\n",
       "      <td>5</td>\n",
       "      <td>0</td>\n",
       "      <td>3</td>\n",
       "      <td>Allen, Mr. William Henry</td>\n",
       "      <td>male</td>\n",
       "      <td>35.0</td>\n",
       "      <td>0</td>\n",
       "      <td>0</td>\n",
       "      <td>373450</td>\n",
       "      <td>8.0500</td>\n",
       "      <td>NaN</td>\n",
       "      <td>S</td>\n",
       "    </tr>\n",
       "  </tbody>\n",
       "</table>\n",
       "</div>"
      ],
      "text/plain": [
       "   PassengerId  Survived  Pclass  \\\n",
       "0            1         0       3   \n",
       "1            2         1       1   \n",
       "2            3         1       3   \n",
       "3            4         1       1   \n",
       "4            5         0       3   \n",
       "\n",
       "                                                Name     Sex   Age  SibSp  \\\n",
       "0                            Braund, Mr. Owen Harris    male  22.0      1   \n",
       "1  Cumings, Mrs. John Bradley (Florence Briggs Th...  female  38.0      1   \n",
       "2                             Heikkinen, Miss. Laina  female  26.0      0   \n",
       "3       Futrelle, Mrs. Jacques Heath (Lily May Peel)  female  35.0      1   \n",
       "4                           Allen, Mr. William Henry    male  35.0      0   \n",
       "\n",
       "   Parch            Ticket     Fare Cabin Embarked  \n",
       "0      0         A/5 21171   7.2500   NaN        S  \n",
       "1      0          PC 17599  71.2833   C85        C  \n",
       "2      0  STON/O2. 3101282   7.9250   NaN        S  \n",
       "3      0            113803  53.1000  C123        S  \n",
       "4      0            373450   8.0500   NaN        S  "
      ]
     },
     "execution_count": 5,
     "metadata": {},
     "output_type": "execute_result"
    }
   ],
   "source": [
    "train_df.head()"
   ]
  },
  {
   "cell_type": "code",
   "execution_count": 21,
   "id": "6a703c71",
   "metadata": {},
   "outputs": [
    {
     "name": "stdout",
     "output_type": "stream",
     "text": [
      "<class 'pandas.core.frame.DataFrame'>\n",
      "RangeIndex: 891 entries, 0 to 890\n",
      "Data columns (total 12 columns):\n",
      " #   Column       Non-Null Count  Dtype  \n",
      "---  ------       --------------  -----  \n",
      " 0   PassengerId  891 non-null    int64  \n",
      " 1   Survived     891 non-null    int64  \n",
      " 2   Pclass       891 non-null    int64  \n",
      " 3   Name         891 non-null    object \n",
      " 4   Sex          891 non-null    object \n",
      " 5   Age          714 non-null    float64\n",
      " 6   SibSp        891 non-null    int64  \n",
      " 7   Parch        891 non-null    int64  \n",
      " 8   Ticket       891 non-null    object \n",
      " 9   Fare         891 non-null    float64\n",
      " 10  Cabin        204 non-null    object \n",
      " 11  Embarked     889 non-null    object \n",
      "dtypes: float64(2), int64(5), object(5)\n",
      "memory usage: 66.2+ KB\n"
     ]
    }
   ],
   "source": [
    "train_df.info()"
   ]
  },
  {
   "cell_type": "markdown",
   "id": "ebefcb60",
   "metadata": {},
   "source": [
    "##### 1. Kazada ölenlerin yaş ortalamasını bulunuz."
   ]
  },
  {
   "cell_type": "code",
   "execution_count": 7,
   "id": "e17bc70c",
   "metadata": {},
   "outputs": [
    {
     "name": "stdout",
     "output_type": "stream",
     "text": [
      "Kazada ölenlerin yaş ortalaması: 30.63\n"
     ]
    }
   ],
   "source": [
    "dead_passengers = train_df[train_df['Survived'] == 0]\n",
    "\n",
    "average_age_of_dead = dead_passengers['Age'].mean()\n",
    "\n",
    "print(f\"Kazada ölenlerin yaş ortalaması: {average_age_of_dead:.2f}\")"
   ]
  },
  {
   "cell_type": "markdown",
   "id": "fde22eca",
   "metadata": {},
   "source": [
    "##### 2. Kazada ölenlerin bilet fiyatlarının ortalamasını ve medyanını bulunuz."
   ]
  },
  {
   "cell_type": "code",
   "execution_count": 9,
   "id": "f7feeafb",
   "metadata": {},
   "outputs": [
    {
     "name": "stdout",
     "output_type": "stream",
     "text": [
      "Kazada ölenlerin bilet fiyatlarının ortalaması: 22.12\n",
      "Kazada ölenlerin bilet fiyatlarının medyanı: 10.50\n"
     ]
    }
   ],
   "source": [
    "\n",
    "dead_passengers = train_df[train_df['Survived'] == 0]\n",
    "\n",
    "average_fare_of_dead = dead_passengers['Fare'].mean()\n",
    "median_fare_of_dead = dead_passengers['Fare'].median()\n",
    "\n",
    "print(f\"Kazada ölenlerin bilet fiyatlarının ortalaması: {average_fare_of_dead:.2f}\")\n",
    "print(f\"Kazada ölenlerin bilet fiyatlarının medyanı: {median_fare_of_dead:.2f}\")"
   ]
  },
  {
   "cell_type": "markdown",
   "id": "6571bdce",
   "metadata": {},
   "source": [
    "##### 3. Kazada ölen erkeklerin yaş ortalamasını bulunuz."
   ]
  },
  {
   "cell_type": "code",
   "execution_count": 11,
   "id": "e98b984e",
   "metadata": {},
   "outputs": [
    {
     "name": "stdout",
     "output_type": "stream",
     "text": [
      "Kazada ölen erkeklerin yaş ortalaması: 31.62\n"
     ]
    }
   ],
   "source": [
    "dead_males = train_df[(train_df['Survived'] == 0) & (train_df['Sex'] == 'male')] \n",
    "\n",
    "average_age_of_dead_males = dead_males['Age'].mean()\n",
    "\n",
    "print(f\"Kazada ölen erkeklerin yaş ortalaması: {average_age_of_dead_males:.2f}\")"
   ]
  },
  {
   "cell_type": "markdown",
   "id": "e8e9ad1e",
   "metadata": {},
   "source": [
    "##### 4. Kazada ölen Kadınların yaş ortalamasını bulunuz."
   ]
  },
  {
   "cell_type": "code",
   "execution_count": 12,
   "id": "1ec83d69",
   "metadata": {},
   "outputs": [
    {
     "name": "stdout",
     "output_type": "stream",
     "text": [
      "Kazada ölen kadınların yaş ortalaması: 25.05\n"
     ]
    }
   ],
   "source": [
    "dead_females = train_df[(train_df['Survived'] == 0) & (train_df['Sex'] == 'female')]\n",
    "\n",
    "average_age_of_dead_females = dead_females['Age'].mean()\n",
    "\n",
    "print(f\"Kazada ölen kadınların yaş ortalaması: {average_age_of_dead_females:.2f}\")"
   ]
  },
  {
   "cell_type": "markdown",
   "id": "dd63b368",
   "metadata": {},
   "source": [
    "##### 5. Kazadan kurtulanların yaş ortalamasını bulunuz."
   ]
  },
  {
   "cell_type": "code",
   "execution_count": 13,
   "id": "81ab422c",
   "metadata": {},
   "outputs": [
    {
     "name": "stdout",
     "output_type": "stream",
     "text": [
      "Kazadan kurtulanların yaş ortalaması: 28.34\n"
     ]
    }
   ],
   "source": [
    "survived_passengers = train_df[train_df['Survived'] == 1]\n",
    "\n",
    "average_age_of_survived = survived_passengers['Age'].mean()\n",
    "\n",
    "print(f\"Kazadan kurtulanların yaş ortalaması: {average_age_of_survived:.2f}\")"
   ]
  },
  {
   "cell_type": "markdown",
   "id": "f0485cab",
   "metadata": {},
   "source": [
    "##### 6. Kazadan kurtulanların bilet fiyatlarının ortalamasını bulunuz."
   ]
  },
  {
   "cell_type": "code",
   "execution_count": 15,
   "id": "f7b14ac2",
   "metadata": {},
   "outputs": [
    {
     "name": "stdout",
     "output_type": "stream",
     "text": [
      "Kazadan kurtulanların bilet fiyatlarının ortalaması: 48.40\n"
     ]
    }
   ],
   "source": [
    "survived_passengers = train_df[train_df['Survived'] == 1]\n",
    "\n",
    "average_fare_of_survived = survived_passengers['Fare'].mean()\n",
    "\n",
    "print(f\"Kazadan kurtulanların bilet fiyatlarının ortalaması: {average_fare_of_survived:.2f}\")"
   ]
  },
  {
   "cell_type": "markdown",
   "id": "6de95b29",
   "metadata": {},
   "source": [
    "#### 7. Kazadan kurtulan toplam kişi sayısını bulunuz."
   ]
  },
  {
   "cell_type": "code",
   "execution_count": 16,
   "id": "577f3604",
   "metadata": {},
   "outputs": [
    {
     "name": "stdout",
     "output_type": "stream",
     "text": [
      "Kazadan kurtulan toplam kişi sayısı: 342\n"
     ]
    }
   ],
   "source": [
    "total_survived_count = len(train_df[train_df['Survived'] == 1])\n",
    "\n",
    "print(f\"Kazadan kurtulan toplam kişi sayısı: {total_survived_count}\")"
   ]
  },
  {
   "cell_type": "markdown",
   "id": "1cdf44a0",
   "metadata": {},
   "source": [
    "##### 8. 10 yaşından küçüklerin bilet fiyatlarının medyan değerini bulunuz."
   ]
  },
  {
   "cell_type": "code",
   "execution_count": 18,
   "id": "dbaa71d2",
   "metadata": {},
   "outputs": [
    {
     "name": "stdout",
     "output_type": "stream",
     "text": [
      "10 yaşından küçüklerin bilet fiyatlarının medyan değeri: 27.00\n"
     ]
    }
   ],
   "source": [
    "children_under_10 = train_df[train_df['Age'] < 10]\n",
    "\n",
    "\n",
    "median_fare_children_under_10 = children_under_10['Fare'].median()\n",
    "\n",
    "print(f\"10 yaşından küçüklerin bilet fiyatlarının medyan değeri: {median_fare_children_under_10:.2f}\")"
   ]
  },
  {
   "cell_type": "markdown",
   "id": "23417a75",
   "metadata": {},
   "source": [
    "##### 9. 1.sınıf, 2.sınıf ve 3.sınıf bilet fiyatlarının ortalama ve medyanlarını karşılaştırınız."
   ]
  },
  {
   "cell_type": "code",
   "execution_count": 19,
   "id": "ead4f2bd",
   "metadata": {},
   "outputs": [
    {
     "name": "stdout",
     "output_type": "stream",
     "text": [
      "\n",
      "9- Pclass'a göre bilet fiyatlarının ortalama ve medyanları:\n",
      "             mean   median\n",
      "Pclass                    \n",
      "1       84.154687  60.2875\n",
      "2       20.662183  14.2500\n",
      "3       13.675550   8.0500\n"
     ]
    }
   ],
   "source": [
    "fare_by_pclass = train_df.groupby('Pclass')['Fare'].agg(['mean', 'median'])\n",
    "\n",
    "print(\"\\n9- Pclass'a göre bilet fiyatlarının ortalama ve medyanları:\")\n",
    "print(fare_by_pclass)\n"
   ]
  },
  {
   "cell_type": "markdown",
   "id": "e3e899b5",
   "metadata": {},
   "source": [
    "##### 10. Kazada ölen kadınların oranı ile erkeklerin oranını karşılaştırınız."
   ]
  },
  {
   "cell_type": "code",
   "execution_count": 20,
   "id": "c2326c79",
   "metadata": {},
   "outputs": [
    {
     "name": "stdout",
     "output_type": "stream",
     "text": [
      "\n",
      "10- Kazada ölen erkeklerin oranı: 81.11%\n",
      "    Kazada ölen kadınların oranı: 25.80%\n"
     ]
    }
   ],
   "source": [
    "total_males = len(train_df[train_df['Sex'] == 'male'])\n",
    "total_females = len(train_df[train_df['Sex'] == 'female'])\n",
    "\n",
    "\n",
    "dead_males_count = len(train_df[(train_df['Survived'] == 0) & (train_df['Sex'] == 'male')])\n",
    "dead_females_count = len(train_df[(train_df['Survived'] == 0) & (train_df['Sex'] == 'female')])\n",
    "\n",
    "\n",
    "death_rate_males = dead_males_count / total_males\n",
    "death_rate_females = dead_females_count / total_females\n",
    "\n",
    "print(f\"\\n10- Kazada ölen erkeklerin oranı: {death_rate_males:.2%}\")\n",
    "print(f\"    Kazada ölen kadınların oranı: {death_rate_females:.2%}\")"
   ]
  }
 ],
 "metadata": {
  "kernelspec": {
   "display_name": "Python 3 (ipykernel)",
   "language": "python",
   "name": "python3"
  },
  "language_info": {
   "codemirror_mode": {
    "name": "ipython",
    "version": 3
   },
   "file_extension": ".py",
   "mimetype": "text/x-python",
   "name": "python",
   "nbconvert_exporter": "python",
   "pygments_lexer": "ipython3",
   "version": "3.8.3"
  }
 },
 "nbformat": 4,
 "nbformat_minor": 5
}
